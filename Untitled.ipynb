{
 "cells": [
  {
   "cell_type": "code",
   "execution_count": 14,
   "metadata": {},
   "outputs": [
    {
     "name": "stdout",
     "output_type": "stream",
     "text": [
      "                                               tweets  len sent_svm sent_knn  \\\n",
      "0   The world faces challenges posed by water stre...  144      pos      neg   \n",
      "1   Health is a human right, not a luxury.\\n\\nPove...  140      neg      neg   \n",
      "2   The UN continues to ramp up its fight against ...  140      pos      neg   \n",
      "3   Access to water is a human right &amp; critica...  144      pos      pos   \n",
      "4   RT @UN_Water: #SafeHands on #WorldWaterDay\\n\\n...  139      neg      neg   \n",
      "5   As people around the world are asked to stay h...  140      pos      neg   \n",
      "6   77% of Americans trust @WHO above all other ag...  140      pos      pos   \n",
      "7   The fight against #coronavirus is everyone's b...  127      pos      pos   \n",
      "8   Half of the world's student population is out ...  140      neg      pos   \n",
      "9   3 billion people live without basic handwashin...  140      pos      pos   \n",
      "10  With schools closed &amp; parents struggling t...  144      pos      pos   \n",
      "11  .@FAO is further scaling up efforts to fight t...  140      neg      neg   \n",
      "12  Amid the #COVID19 pandemic, people around the ...  140      pos      pos   \n",
      "13  RT @UNEP: Losing forest diversity means missin...  140      neg      pos   \n",
      "\n",
      "   sent_lr sent_treeC  \n",
      "0      pos        pos  \n",
      "1      neg        pos  \n",
      "2      pos        pos  \n",
      "3      pos        pos  \n",
      "4      pos        pos  \n",
      "5      pos        pos  \n",
      "6      pos        pos  \n",
      "7      pos        pos  \n",
      "8      pos        pos  \n",
      "9      pos        pos  \n",
      "10     pos        pos  \n",
      "11     pos        pos  \n",
      "12     pos        pos  \n",
      "13     pos        pos  \n",
      "positive:  {'precision': 0.9191919191919192, 'recall': 0.91, 'f1-score': 0.9145728643216081, 'support': 100}\n",
      "negative:  {'precision': 0.9108910891089109, 'recall': 0.92, 'f1-score': 0.9154228855721394, 'support': 100}\n"
     ]
    }
   ],
   "source": [
    "from tweepy import API \n",
    "from tweepy import Cursor\n",
    "from tweepy.streaming import StreamListener\n",
    "from tweepy import OAuthHandler\n",
    "from tweepy import Stream\n",
    " \n",
    "import twitter_credentials\n",
    "\n",
    "import matplotlib.pyplot as plt \n",
    "import numpy as np\n",
    "import pandas as pd\n",
    "import re\n",
    "\n",
    "from sklearn.feature_extraction.text import TfidfVectorizer\n",
    "from sklearn.metrics import classification_report\n",
    "\n",
    "from sklearn import svm\n",
    "from sklearn.neighbors import KNeighborsClassifier\n",
    "from sklearn.linear_model import LogisticRegression\n",
    "from sklearn.tree import DecisionTreeClassifier\n",
    "\n",
    "\n",
    "trainData = pd.read_csv(\"train.csv\")\n",
    "testData = pd.read_csv(\"test.csv\")\n",
    "\n",
    "vectorizer = TfidfVectorizer(min_df = 5,\n",
    "                             max_df = 0.8,\n",
    "                             sublinear_tf = True,\n",
    "                             use_idf = True)\n",
    "\n",
    "train_vectors = vectorizer.fit_transform(trainData['Content'])\n",
    "test_vectors = vectorizer.transform(testData['Content'])\n",
    "\n",
    "# # # # Using SVM # # # #\n",
    "\n",
    "classifier_linear = svm.SVC(kernel='linear')\n",
    "classifier_linear.fit(train_vectors, trainData['Label'])\n",
    "prediction_linear = classifier_linear.predict(test_vectors)\n",
    "report = classification_report(testData['Label'], prediction_linear, output_dict=True)\n",
    "\n",
    "# # # # # # # # # # # # # \n",
    "\n",
    "# # # # Using KNN # # # #\n",
    "\n",
    "Y = trainData[['Label']]\n",
    "Y = Y['Label'].values\n",
    "k = 8  \n",
    "neigh = KNeighborsClassifier(n_neighbors = k).fit(train_vectors,Y)\n",
    "\n",
    "\n",
    "# # # # # # # # # # # # #\n",
    "\n",
    "# # # # Using logistic regression # # # #\n",
    "\n",
    "Y = np.asarray(trainData['Label'])\n",
    "Logistic = LogisticRegression(C=0.01, solver='liblinear').fit(train_vectors,Y)\n",
    "\n",
    "\n",
    "# # # # # # # # # # # # #\n",
    "# # # # Using Tree Classifier # # # #\n",
    "\n",
    "Y = trainData[['Label']]\n",
    "sentTree = DecisionTreeClassifier(criterion=\"entropy\", max_depth = 4)\n",
    "sentTree.fit(train_vectors,Y)\n",
    "\n",
    "# # # # # # # # # # # # #\n",
    "# # # # TWITTER CLIENTS # # # #\n",
    "class TwitterClient():\n",
    "    def __init__(self, twitter_user=None):\n",
    "        self.auth = TwitterAuthenticator().authenticate_twitter_app()\n",
    "        self.twitter_client = API(self.auth)\n",
    "\n",
    "        self.twitter_user = twitter_user\n",
    "\n",
    "    def get_twitter_client_api(self):\n",
    "        return self.twitter_client\n",
    "    \n",
    "    def get_tweets(self, query, count = 15):\n",
    "        tweets1 = []\n",
    "        try: \n",
    "            # call twitter api to fetch tweets \n",
    "            fetched_tweets = self.twitter_client.search(q = query, count = count)\n",
    "            \n",
    "            for tweet in fetched_tweets: \n",
    "                \n",
    "                # appending parsed tweet to tweets list \n",
    "                if not hasattr(tweet,'retweeted_status'): \n",
    "                    # if tweet has retweets, ensure that it is appended only once \n",
    "                    tweets1.append(tweet) \n",
    "                 \n",
    "  \n",
    "            # return parsed tweets \n",
    "            return tweets1\n",
    "            \n",
    "        except tweepy.TweepError as e: \n",
    "            # print error (if any) \n",
    "            print(\"Error : \" + str(e)) \n",
    "    \"\"\"\n",
    "    def get_user_timeline_tweets(self, num_tweets):\n",
    "        tweets = []\n",
    "        for tweet in Cursor(self.twitter_client.user_timeline, id=self.twitter_user).items(num_tweets):\n",
    "            tweets.append(tweet)\n",
    "        return tweets\n",
    "\n",
    "    def get_friend_list(self, num_friends):\n",
    "        friend_list = []\n",
    "        for friend in Cursor(self.twitter_client.friends, id=self.twitter_user).items(num_friends):\n",
    "            friend_list.append(friend)\n",
    "        return friend_list\n",
    "\n",
    "    def get_home_timeline_tweets(self, num_tweets):\n",
    "        home_timeline_tweets = []\n",
    "        for tweet in Cursor(self.twitter_client.home_timeline, id=self.twitter_user).items(num_tweets):\n",
    "            home_timeline_tweets.append(tweet)\n",
    "        return home_timeline_tweets\n",
    "\n",
    "    \"\"\"\n",
    "# # # # TWITTER AUTHENTICATER # # # #\n",
    "class TwitterAuthenticator():\n",
    "\n",
    "    def authenticate_twitter_app(self):\n",
    "        auth = OAuthHandler(twitter_credentials.CONSUMER_KEY, twitter_credentials.CONSUMER_SECRET)\n",
    "        auth.set_access_token(twitter_credentials.ACCESS_TOKEN, twitter_credentials.ACCESS_TOKEN_SECRET)\n",
    "        return auth\n",
    "\n",
    "# # # #  TWITTER ANALYZER# # # #\n",
    "class TweetAnalyzer():\n",
    "    \"\"\"\n",
    "    Functionality for analyzing and categorizing content from tweets.\n",
    "    \"\"\"\n",
    "\n",
    "    def clean_tweet(self, tweet):\n",
    "        return ' '.join(re.sub(\"(@[A-Za-z0-9]+)|([^0-9A-Za-z \\t])|(\\w+:\\/\\/\\S+)\", \" \", tweet).split())\n",
    "\n",
    "    def analyze_sentiment_svm(self, tweet):\n",
    "        review_vector = vectorizer.transform([tweet])\n",
    "        return classifier_linear.predict(review_vector)\n",
    "    \n",
    "    def analyze_sentiment_knn(self, tweet):\n",
    "        review_vector = vectorizer.transform([tweet])\n",
    "        return neigh.predict(review_vector)\n",
    "    \n",
    "    def analyze_sentiment_logisticReg(self, tweet):\n",
    "        review_vector = vectorizer.transform([tweet])\n",
    "        return Logistic.predict(review_vector)\n",
    "      \n",
    "    def analyze_sentiment_TreeClassifier(self, tweet):\n",
    "        review_vector = vectorizer.transform([tweet])\n",
    "        return sentTree.predict(review_vector)\n",
    "\n",
    "    def tweets_to_data_frame(self, tweets):\n",
    "        df = pd.DataFrame(data=[tweet.text for tweet in tweets], columns=['tweets'])\n",
    "\n",
    "        #df['id'] = np.array([tweet.id for tweet in tweets])\n",
    "        df['len'] = np.array([len(tweet.text) for tweet in tweets])\n",
    "        #df['date'] = np.array([tweet.created_at for tweet in tweets])\n",
    "        #df['source'] = np.array([tweet.source for tweet in tweets])\n",
    "        #df['likes'] = np.array([tweet.favorite_count for tweet in tweets])\n",
    "        #df['retweets'] = np.array([tweet.retweet_count for tweet in tweets])\n",
    "\n",
    "        return df\n",
    "\n",
    " \n",
    "if __name__ == '__main__':\n",
    "\n",
    "    twitter_client = TwitterClient()\n",
    "    tweet_analyzer = TweetAnalyzer()\n",
    "\n",
    "    api = twitter_client.get_twitter_client_api()\n",
    "    \n",
    "    tweets = api.user_timeline(screen_name = \"UN\", count=200)\n",
    "    #tweets = twitter_client.get_tweets(query = 'Coronavirus', count = 100)\n",
    "\n",
    "    df = tweet_analyzer.tweets_to_data_frame(tweets)\n",
    "    df['sent_svm'] = np.array([tweet_analyzer.analyze_sentiment_svm(tweet) for tweet in df['tweets']])\n",
    "    df['sent_knn'] = np.array([tweet_analyzer.analyze_sentiment_knn(tweet) for tweet in df['tweets']])\n",
    "    df['sent_lr'] = np.array([tweet_analyzer.analyze_sentiment_logisticReg(tweet) for tweet in df['tweets']])\n",
    "    df['sent_treeC'] = np.array([tweet_analyzer.analyze_sentiment_TreeClassifier(tweet) for tweet in df['tweets']])\n",
    "\n",
    "    print(df.head(14))\n",
    "    print('positive: ', report['pos'])\n",
    "    print('negative: ', report['neg'])"
   ]
  },
  {
   "cell_type": "code",
   "execution_count": 15,
   "metadata": {},
   "outputs": [
    {
     "data": {
      "text/plain": [
       "pos    115\n",
       "neg     85\n",
       "Name: sent_svm, dtype: int64"
      ]
     },
     "execution_count": 15,
     "metadata": {},
     "output_type": "execute_result"
    }
   ],
   "source": [
    "df['sent_svm'].value_counts()"
   ]
  },
  {
   "cell_type": "code",
   "execution_count": 16,
   "metadata": {},
   "outputs": [
    {
     "data": {
      "text/plain": [
       "neg    103\n",
       "pos     97\n",
       "Name: sent_knn, dtype: int64"
      ]
     },
     "execution_count": 16,
     "metadata": {},
     "output_type": "execute_result"
    }
   ],
   "source": [
    "df['sent_knn'].value_counts()"
   ]
  },
  {
   "cell_type": "code",
   "execution_count": 17,
   "metadata": {},
   "outputs": [
    {
     "data": {
      "text/plain": [
       "93.0"
      ]
     },
     "execution_count": 17,
     "metadata": {},
     "output_type": "execute_result"
    }
   ],
   "source": [
    "x = df['sent_lr'].value_counts('pos')\n",
    "x['pos']*100"
   ]
  },
  {
   "cell_type": "code",
   "execution_count": 18,
   "metadata": {},
   "outputs": [
    {
     "data": {
      "text/plain": [
       "pos    199\n",
       "neg      1\n",
       "Name: sent_treeC, dtype: int64"
      ]
     },
     "execution_count": 18,
     "metadata": {},
     "output_type": "execute_result"
    }
   ],
   "source": [
    "df['sent_treeC'].value_counts()"
   ]
  },
  {
   "cell_type": "code",
   "execution_count": 19,
   "metadata": {},
   "outputs": [
    {
     "name": "stdout",
     "output_type": "stream",
     "text": [
      "<class 'pandas.core.frame.DataFrame'>\n",
      "RangeIndex: 200 entries, 0 to 199\n",
      "Data columns (total 6 columns):\n",
      "tweets        200 non-null object\n",
      "len           200 non-null int32\n",
      "sent_svm      200 non-null object\n",
      "sent_knn      200 non-null object\n",
      "sent_lr       200 non-null object\n",
      "sent_treeC    200 non-null object\n",
      "dtypes: int32(1), object(5)\n",
      "memory usage: 8.7+ KB\n"
     ]
    }
   ],
   "source": [
    "df.info()"
   ]
  },
  {
   "cell_type": "code",
   "execution_count": null,
   "metadata": {},
   "outputs": [],
   "source": []
  },
  {
   "cell_type": "code",
   "execution_count": null,
   "metadata": {},
   "outputs": [],
   "source": []
  },
  {
   "cell_type": "code",
   "execution_count": null,
   "metadata": {},
   "outputs": [],
   "source": []
  },
  {
   "cell_type": "code",
   "execution_count": null,
   "metadata": {},
   "outputs": [],
   "source": []
  },
  {
   "cell_type": "code",
   "execution_count": null,
   "metadata": {},
   "outputs": [],
   "source": []
  },
  {
   "cell_type": "code",
   "execution_count": null,
   "metadata": {},
   "outputs": [],
   "source": []
  },
  {
   "cell_type": "code",
   "execution_count": null,
   "metadata": {},
   "outputs": [],
   "source": []
  },
  {
   "cell_type": "code",
   "execution_count": null,
   "metadata": {},
   "outputs": [],
   "source": []
  },
  {
   "cell_type": "code",
   "execution_count": null,
   "metadata": {},
   "outputs": [],
   "source": []
  },
  {
   "cell_type": "code",
   "execution_count": null,
   "metadata": {},
   "outputs": [],
   "source": []
  },
  {
   "cell_type": "code",
   "execution_count": 2,
   "metadata": {},
   "outputs": [],
   "source": [
    "# roc curve and auc\n",
    "from sklearn.datasets import make_classification\n",
    "from sklearn.linear_model import LogisticRegression\n",
    "from sklearn.metrics import roc_curve\n",
    "from sklearn.metrics import roc_auc_score\n",
    "from matplotlib import pyplot"
   ]
  },
  {
   "cell_type": "code",
   "execution_count": 3,
   "metadata": {},
   "outputs": [],
   "source": [
    "import matplotlib.pyplot as plt \n",
    "import numpy as np\n",
    "import pandas as pd\n",
    "\n",
    "from sklearn.feature_extraction.text import TfidfVectorizer\n",
    "\n",
    "\n",
    "from sklearn import svm\n",
    "from sklearn.neighbors import KNeighborsClassifier\n",
    "from sklearn.linear_model import LogisticRegression\n",
    "from sklearn.tree import DecisionTreeClassifier\n",
    "\n",
    "trainData = pd.read_csv(\"train.csv\")\n",
    "testData = pd.read_csv(\"test.csv\")\n",
    "\n",
    "vectorizer = TfidfVectorizer(min_df = 5,\n",
    "                             max_df = 0.8,\n",
    "                             sublinear_tf = True,\n",
    "                             use_idf = True)\n",
    "\n",
    "train_vectors = vectorizer.fit_transform(trainData['Content'])\n",
    "test_vectors = vectorizer.transform(testData['Content'])"
   ]
  },
  {
   "cell_type": "code",
   "execution_count": 4,
   "metadata": {},
   "outputs": [
    {
     "data": {
      "text/plain": [
       "DecisionTreeClassifier(ccp_alpha=0.0, class_weight=None, criterion='entropy',\n",
       "                       max_depth=4, max_features=None, max_leaf_nodes=None,\n",
       "                       min_impurity_decrease=0.0, min_impurity_split=None,\n",
       "                       min_samples_leaf=1, min_samples_split=2,\n",
       "                       min_weight_fraction_leaf=0.0, presort='deprecated',\n",
       "                       random_state=None, splitter='best')"
      ]
     },
     "execution_count": 4,
     "metadata": {},
     "output_type": "execute_result"
    }
   ],
   "source": [
    "# # # # Using SVM # # # #\n",
    "\n",
    "classifier_linear = svm.SVC(kernel='linear', probability= True)\n",
    "classifier_linear.fit(train_vectors, trainData['Label'])\n",
    "prediction_linear = classifier_linear.predict(test_vectors)\n",
    "#report = classification_report(testData['Label'], prediction_linear, output_dict=True)\n",
    "\n",
    "# # # # # # # # # # # # # \n",
    "\n",
    "# # # # Using KNN # # # #\n",
    "\n",
    "Y = trainData[['Label']]\n",
    "Y = Y['Label'].values\n",
    "k = 8  \n",
    "neigh = KNeighborsClassifier(n_neighbors = k).fit(train_vectors,Y)\n",
    "\n",
    "\n",
    "# # # # # # # # # # # # #\n",
    "\n",
    "# # # # Using logistic regression # # # #\n",
    "\n",
    "Y = np.asarray(trainData['Label'])\n",
    "Logistic = LogisticRegression(C=0.01, solver='liblinear').fit(train_vectors,Y)\n",
    "\n",
    "\n",
    "# # # # # # # # # # # # #\n",
    "# # # # Using Tree Classifier # # # #\n",
    "\n",
    "Y = trainData[['Label']]\n",
    "sentTree = DecisionTreeClassifier(criterion=\"entropy\", max_depth = 4)\n",
    "sentTree.fit(train_vectors,Y)\n",
    "\n",
    "# # # # # # # # # # # # #"
   ]
  },
  {
   "cell_type": "code",
   "execution_count": 5,
   "metadata": {},
   "outputs": [],
   "source": [
    "ns_probs = [0 for _ in range(len(testData))]"
   ]
  },
  {
   "cell_type": "code",
   "execution_count": 6,
   "metadata": {},
   "outputs": [],
   "source": [
    "lr_probs = classifier_linear.predict_proba(test_vectors)"
   ]
  },
  {
   "cell_type": "code",
   "execution_count": 7,
   "metadata": {},
   "outputs": [],
   "source": [
    "knn_probs = neigh.predict_proba(test_vectors)"
   ]
  },
  {
   "cell_type": "code",
   "execution_count": 8,
   "metadata": {},
   "outputs": [],
   "source": [
    "linear_probs = Logistic.predict_proba(test_vectors)"
   ]
  },
  {
   "cell_type": "code",
   "execution_count": 9,
   "metadata": {},
   "outputs": [],
   "source": [
    "tc_probs = sentTree.predict_proba(test_vectors)"
   ]
  },
  {
   "cell_type": "code",
   "execution_count": 10,
   "metadata": {},
   "outputs": [],
   "source": [
    "lr_probs = lr_probs[:, 1]"
   ]
  },
  {
   "cell_type": "code",
   "execution_count": 11,
   "metadata": {},
   "outputs": [],
   "source": [
    "knn_probs = knn_probs[:, 1]\n",
    "linear_probs = linear_probs[:, 1]\n",
    "tc_probs = tc_probs[:, 1]"
   ]
  },
  {
   "cell_type": "code",
   "execution_count": null,
   "metadata": {},
   "outputs": [],
   "source": []
  },
  {
   "cell_type": "code",
   "execution_count": null,
   "metadata": {},
   "outputs": [],
   "source": []
  },
  {
   "cell_type": "code",
   "execution_count": null,
   "metadata": {},
   "outputs": [],
   "source": []
  },
  {
   "cell_type": "code",
   "execution_count": 12,
   "metadata": {},
   "outputs": [],
   "source": [
    "mapp = {'pos':1, 'neg':0}"
   ]
  },
  {
   "cell_type": "code",
   "execution_count": 13,
   "metadata": {},
   "outputs": [],
   "source": [
    "testData = testData.replace({'Label':mapp})"
   ]
  },
  {
   "cell_type": "code",
   "execution_count": 14,
   "metadata": {},
   "outputs": [],
   "source": [
    "ns_auc = roc_auc_score(testData['Label'], ns_probs)"
   ]
  },
  {
   "cell_type": "code",
   "execution_count": 15,
   "metadata": {},
   "outputs": [],
   "source": [
    "lr_auc = roc_auc_score(testData['Label'], lr_probs)"
   ]
  },
  {
   "cell_type": "code",
   "execution_count": 16,
   "metadata": {},
   "outputs": [],
   "source": [
    "knn_auc = roc_auc_score(testData['Label'], knn_probs)"
   ]
  },
  {
   "cell_type": "code",
   "execution_count": 17,
   "metadata": {},
   "outputs": [],
   "source": [
    "linear_auc = roc_auc_score(testData['Label'], linear_probs)"
   ]
  },
  {
   "cell_type": "code",
   "execution_count": 18,
   "metadata": {},
   "outputs": [],
   "source": [
    "tc_auc = roc_auc_score(testData['Label'], tc_probs)"
   ]
  },
  {
   "cell_type": "code",
   "execution_count": 19,
   "metadata": {},
   "outputs": [
    {
     "name": "stdout",
     "output_type": "stream",
     "text": [
      "No Skill: ROC AUC=0.500\n"
     ]
    }
   ],
   "source": [
    "print('No Skill: ROC AUC=%.3f' % (ns_auc))\n"
   ]
  },
  {
   "cell_type": "code",
   "execution_count": 20,
   "metadata": {},
   "outputs": [
    {
     "name": "stdout",
     "output_type": "stream",
     "text": [
      "Logistic: ROC AUC=0.967\n"
     ]
    }
   ],
   "source": [
    "print('Logistic: ROC AUC=%.3f' % (lr_auc))"
   ]
  },
  {
   "cell_type": "code",
   "execution_count": 21,
   "metadata": {},
   "outputs": [],
   "source": [
    "ns_fpr, ns_tpr, _ = roc_curve(testData['Label'], ns_probs)\n",
    "lr_fpr, lr_tpr, _ = roc_curve(testData['Label'], lr_probs)"
   ]
  },
  {
   "cell_type": "code",
   "execution_count": 22,
   "metadata": {},
   "outputs": [],
   "source": [
    "knn_fpr, knn_tpr, _ = roc_curve(testData['Label'], knn_probs)\n",
    "linear_fpr, linear_tpr, _ = roc_curve(testData['Label'], linear_probs)\n",
    "tc_fpr, tc_tpr, _ = roc_curve(testData['Label'], tc_probs)\n"
   ]
  },
  {
   "cell_type": "code",
   "execution_count": 88,
   "metadata": {},
   "outputs": [
    {
     "data": {
      "image/png": "[encoded data removed]",
      "text/plain": [
       "<Figure size 864x504 with 1 Axes>"
      ]
     },
     "metadata": {},
     "output_type": "display_data"
    }
   ],
   "source": [
    "plt.plot(ns_fpr, ns_tpr, linestyle='--', label='No Skill')\n",
    "plt.plot(lr_fpr, lr_tpr, marker='.', label='SVM')\n",
    "plt.plot(linear_fpr, linear_tpr, marker='.', label='LR')\n",
    "\n",
    "plt.plot(knn_fpr, knn_tpr, marker='*', label='KNN')\n",
    "plt.plot(tc_fpr, tc_tpr, marker='.', label='TreeClassifier')\n",
    "\n",
    "\n",
    "\n",
    "pyplot.xlabel('False Positive Rate')\n",
    "pyplot.ylabel('True Positive Rate')\n",
    "plt.title('ROC Curve')\n",
    "pyplot.legend()\n",
    "\n",
    "plt.rcParams[\"figure.figsize\"] = (12,7)\n",
    "#plt.figure(figsize=(8,6))\n",
    "plt.savefig('/Users/sahil/Desktop/sentiproject/static/images/roc.png')\n",
    "\n",
    "\n",
    "\n",
    "\n"
   ]
  },
  {
   "cell_type": "code",
   "execution_count": null,
   "metadata": {},
   "outputs": [],
   "source": []
  },
  {
   "cell_type": "code",
   "execution_count": null,
   "metadata": {},
   "outputs": [],
   "source": []
  },
  {
   "cell_type": "code",
   "execution_count": null,
   "metadata": {},
   "outputs": [],
   "source": []
  },
  {
   "cell_type": "code",
   "execution_count": null,
   "metadata": {},
   "outputs": [],
   "source": []
  },
  {
   "cell_type": "code",
   "execution_count": null,
   "metadata": {},
   "outputs": [],
   "source": []
  },
  {
   "cell_type": "code",
   "execution_count": null,
   "metadata": {},
   "outputs": [],
   "source": []
  },
  {
   "cell_type": "code",
   "execution_count": null,
   "metadata": {},
   "outputs": [],
   "source": []
  },
  {
   "cell_type": "code",
   "execution_count": null,
   "metadata": {},
   "outputs": [],
   "source": []
  },
  {
   "cell_type": "code",
   "execution_count": null,
   "metadata": {},
   "outputs": [],
   "source": []
  },
  {
   "cell_type": "code",
   "execution_count": null,
   "metadata": {},
   "outputs": [],
   "source": []
  },
  {
   "cell_type": "code",
   "execution_count": null,
   "metadata": {},
   "outputs": [],
   "source": []
  },
  {
   "cell_type": "code",
   "execution_count": null,
   "metadata": {},
   "outputs": [],
   "source": []
  },
  {
   "cell_type": "code",
   "execution_count": null,
   "metadata": {},
   "outputs": [],
   "source": []
  },
  {
   "cell_type": "code",
   "execution_count": null,
   "metadata": {},
   "outputs": [],
   "source": []
  },
  {
   "cell_type": "code",
   "execution_count": null,
   "metadata": {},
   "outputs": [],
   "source": []
  },
  {
   "cell_type": "code",
   "execution_count": null,
   "metadata": {},
   "outputs": [],
   "source": []
  },
  {
   "cell_type": "code",
   "execution_count": null,
   "metadata": {},
   "outputs": [],
   "source": []
  }
 ],
 "metadata": {
  "kernelspec": {
   "display_name": "Python 3",
   "language": "python",
   "name": "python3"
  },
  "language_info": {
   "codemirror_mode": {
    "name": "ipython",
    "version": 3
   },
   "file_extension": ".py",
   "mimetype": "text/x-python",
   "name": "python",
   "nbconvert_exporter": "python",
   "pygments_lexer": "ipython3",
   "version": "3.6.5"
  }
 },
 "nbformat": 4,
 "nbformat_minor": 2
}
